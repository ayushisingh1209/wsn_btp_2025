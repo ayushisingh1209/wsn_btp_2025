{
 "cells": [
  {
   "cell_type": "code",
   "execution_count": 7,
   "id": "19c69dc2",
   "metadata": {},
   "outputs": [
    {
     "name": "stdout",
     "output_type": "stream",
     "text": [
      "       id   Time   Is_CH   who CH   Dist_To_CH   ADV_S   ADV_R   JOIN_S  \\\n",
      "0  101000     50       1   101000      0.00000       1       0        0   \n",
      "1  101001     50       0   101044     75.32345       0       4        1   \n",
      "2  101002     50       0   101010     46.95453       0       4        1   \n",
      "3  101003     50       0   101044     64.85231       0       4        1   \n",
      "4  101004     50       0   101010      4.83341       0       4        1   \n",
      "\n",
      "    JOIN_R   SCH_S   SCH_R  Rank   DATA_S   DATA_R   Data_Sent_To_BS  \\\n",
      "0       25       1       0     0        0     1200                48   \n",
      "1        0       0       1     2       38        0                 0   \n",
      "2        0       0       1    19       41        0                 0   \n",
      "3        0       0       1    16       38        0                 0   \n",
      "4        0       0       1    25       41        0                 0   \n",
      "\n",
      "    dist_CH_To_BS   send_code   Expaned Energy Attack type  \n",
      "0       130.08535            0         2.46940      Normal  \n",
      "1         0.00000            4         0.06957      Normal  \n",
      "2         0.00000            3         0.06898      Normal  \n",
      "3         0.00000            4         0.06673      Normal  \n",
      "4         0.00000            3         0.06534      Normal  \n",
      " Time        50        53    100   103   150   153   200   203   250   253   \\\n",
      " id                                                                           \n",
      "101000   0.909310  0.456836   NaN   NaN   NaN   NaN   NaN   NaN   NaN   NaN   \n",
      "101001   0.104083  0.493558   NaN   NaN   NaN   NaN   NaN   NaN   NaN   NaN   \n",
      "101002   0.089287  0.225000   NaN   NaN   NaN   NaN   NaN   NaN   NaN   NaN   \n",
      "101003   0.101333  0.272496   NaN   NaN   NaN   NaN   NaN   NaN   NaN   NaN   \n",
      "101004   0.076823  0.082900   NaN   NaN   NaN   NaN   NaN   NaN   NaN   NaN   \n",
      "...           ...       ...   ...   ...   ...   ...   ...   ...   ...   ...   \n",
      "3402063       NaN       NaN   NaN   NaN   NaN   NaN   NaN   NaN   NaN   NaN   \n",
      "3402069       NaN       NaN   NaN   NaN   NaN   NaN   NaN   NaN   NaN   NaN   \n",
      "3402073       NaN       NaN   NaN   NaN   NaN   NaN   NaN   NaN   NaN   NaN   \n",
      "3402088       NaN       NaN   NaN   NaN   NaN   NaN   NaN   NaN   NaN   NaN   \n",
      "3402096       NaN       NaN   NaN   NaN   NaN   NaN   NaN   NaN   NaN   NaN   \n",
      "\n",
      " Time    ...  3400  3403  3450  3453  3473  3500  3503  3550     3553  3600  \n",
      " id      ...                                                                 \n",
      "101000   ...   NaN   NaN   NaN   NaN   NaN   NaN   NaN   NaN      NaN   NaN  \n",
      "101001   ...   NaN   NaN   NaN   NaN   NaN   NaN   NaN   NaN      NaN   NaN  \n",
      "101002   ...   NaN   NaN   NaN   NaN   NaN   NaN   NaN   NaN      NaN   NaN  \n",
      "101003   ...   NaN   NaN   NaN   NaN   NaN   NaN   NaN   NaN      NaN   NaN  \n",
      "101004   ...   NaN   NaN   NaN   NaN   NaN   NaN   NaN   NaN      NaN   NaN  \n",
      "...      ...   ...   ...   ...   ...   ...   ...   ...   ...      ...   ...  \n",
      "3402063  ...   NaN   NaN   NaN   NaN   NaN   NaN   NaN   NaN  0.23023   NaN  \n",
      "3402069  ...   NaN   NaN   NaN   NaN   NaN   NaN   NaN   NaN  0.21940   NaN  \n",
      "3402073  ...   NaN   NaN   NaN   NaN   NaN   NaN   NaN   NaN  0.21489   NaN  \n",
      "3402088  ...   NaN   NaN   NaN   NaN   NaN   NaN   NaN   NaN  0.21826   NaN  \n",
      "3402096  ...   NaN   NaN   NaN   NaN   NaN   NaN   NaN   NaN  0.20230   NaN  \n",
      "\n",
      "[11120 rows x 196 columns]\n"
     ]
    }
   ],
   "source": [
    "import pandas as pd\n",
    "\n",
    "# Load the dataset from your computer\n",
    "# Replace 'your_dataset.csv' with the actual file path of your dataset\n",
    "df = pd.read_csv(r\"C:\\Users\\VIVEK KUMAR SINGH\\Downloads\\WSN-DS.csv\")\n",
    "print(df.head())\n",
    "df_aggregated = df.groupby([' id', ' Time'], as_index=False)['Expaned Energy'].mean()\n",
    "\n",
    "# Now pivot the table\n",
    "pivot_df = df_aggregated.pivot(index=' id', columns=' Time', values='Expaned Energy')\n",
    "\n",
    "# Display the reshaped DataFrame\n",
    "print(pivot_df)"
   ]
  },
  {
   "cell_type": "code",
   "execution_count": 8,
   "id": "24090ec2",
   "metadata": {},
   "outputs": [
    {
     "name": "stdout",
     "output_type": "stream",
     "text": [
      "Data saved to reshaped_data.csv\n"
     ]
    }
   ],
   "source": [
    "# Save the reshaped DataFrame to a CSV file\n",
    "pivot_df.to_csv(r\"C:\\Users\\VIVEK KUMAR SINGH\\Downloads\\reshaped_data.csv\", index=True)\n",
    "\n",
    "print(\"Data saved to reshaped_data.csv\")"
   ]
  },
  {
   "cell_type": "code",
   "execution_count": null,
   "id": "ddcbad01",
   "metadata": {},
   "outputs": [],
   "source": [
    "# min UAVs = (sum_of_expanded energy + (sum_of_dist_(active nodes energy!=NaN)/speed)*power)/energy_of_UAV"
   ]
  }
 ],
 "metadata": {
  "kernelspec": {
   "display_name": "Python 3 (ipykernel)",
   "language": "python",
   "name": "python3"
  },
  "language_info": {
   "codemirror_mode": {
    "name": "ipython",
    "version": 3
   },
   "file_extension": ".py",
   "mimetype": "text/x-python",
   "name": "python",
   "nbconvert_exporter": "python",
   "pygments_lexer": "ipython3",
   "version": "3.11.5"
  }
 },
 "nbformat": 4,
 "nbformat_minor": 5
}
